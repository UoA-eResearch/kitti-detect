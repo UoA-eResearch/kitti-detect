{
 "cells": [
  {
   "cell_type": "code",
   "execution_count": null,
   "id": "599bbba7",
   "metadata": {},
   "outputs": [],
   "source": [
    "# warning: current data partitioning with label overrides assumes one object per image"
   ]
  },
  {
   "cell_type": "code",
   "execution_count": null,
   "id": "3c5eaf6e",
   "metadata": {},
   "outputs": [],
   "source": [
    "%load_ext autoreload\n",
    "%autoreload 2"
   ]
  },
  {
   "cell_type": "code",
   "execution_count": null,
   "id": "63e81359",
   "metadata": {},
   "outputs": [],
   "source": [
    "import pandas as pd\n",
    "from glob import glob\n",
    "import random\n",
    "import os\n",
    "import json\n",
    "\n",
    "from common import *"
   ]
  },
  {
   "cell_type": "code",
   "execution_count": null,
   "id": "660e50cd",
   "metadata": {},
   "outputs": [],
   "source": [
    "# data directories\n",
    "data_dir = \"../data/combined/resized\"\n",
    "image_dir = os.path.join(data_dir, \"images\")\n",
    "label_dir = os.path.join(data_dir, \"labels\")\n",
    "\n",
    "# label overrides\n",
    "label_overrides_df = pd.read_excel('../data/labels.xlsx').fillna('')\n",
    "label_overrides = {}\n",
    "for index, row in label_overrides_df.iterrows():\n",
    "    label_overrides[str(row['ID']).strip()] = row['Tier1'].lower()    "
   ]
  },
  {
   "cell_type": "code",
   "execution_count": null,
   "id": "b1542ad2",
   "metadata": {},
   "outputs": [],
   "source": [
    "# show class distribution\n",
    "image_paths = glob(os.path.join(image_dir, \"*.jpg\"))\n",
    "random.shuffle(image_paths) # randomise\n",
    "distribution(class_summary(image_paths, label_dir, label_overrides))"
   ]
  },
  {
   "cell_type": "code",
   "execution_count": null,
   "id": "a15ff7a8",
   "metadata": {},
   "outputs": [],
   "source": [
    "# create partitions\n",
    "k = 5 # number of partitions\n",
    "\n",
    "n_k = len(image_paths) // k + 1\n",
    "parts = []\n",
    "for i in range(k):\n",
    "    start = i * n_k\n",
    "    end = (i+1) * n_k\n",
    "    p = image_paths[start:end]\n",
    "    print(f\"partition: {i+1}, start: {start}, end: {end}, count: {len(p)}\")\n",
    "    classes = class_summary(p, label_dir, label_overrides)\n",
    "    distribution(classes)\n",
    "    parts.append(classes)\n",
    "    print(\"================================\")"
   ]
  },
  {
   "cell_type": "code",
   "execution_count": null,
   "id": "ca79ae3a",
   "metadata": {},
   "outputs": [],
   "source": [
    "# save partitions\n",
    "exp_name = 't1'\n",
    "if not os.path.exists(exp_name):\n",
    "    os.mkdir(exp_name)\n",
    "    \n",
    "for i, p in enumerate(parts):\n",
    "    path = os.path.join(exp_name, f\"{exp_name}-part-{i}.json\")\n",
    "    save_partition(path, p)"
   ]
  },
  {
   "cell_type": "code",
   "execution_count": null,
   "id": "deebec42",
   "metadata": {},
   "outputs": [],
   "source": [
    "# save label map\n",
    "label_map = {\n",
    "    'background': 0, # required\n",
    "    'rock': 1,\n",
    "    'artefact': 2,\n",
    "}\n",
    "\n",
    "path = os.path.join(exp_name, f\"{exp_name}-label-map.json\")\n",
    "with open(path, 'w') as f:\n",
    "    json.dump(label_map, f)"
   ]
  },
  {
   "cell_type": "code",
   "execution_count": null,
   "id": "09178738",
   "metadata": {},
   "outputs": [],
   "source": []
  }
 ],
 "metadata": {
  "kernelspec": {
   "display_name": "Python 3",
   "language": "python",
   "name": "python3"
  },
  "language_info": {
   "codemirror_mode": {
    "name": "ipython",
    "version": 3
   },
   "file_extension": ".py",
   "mimetype": "text/x-python",
   "name": "python",
   "nbconvert_exporter": "python",
   "pygments_lexer": "ipython3",
   "version": "3.7.10"
  }
 },
 "nbformat": 4,
 "nbformat_minor": 5
}
