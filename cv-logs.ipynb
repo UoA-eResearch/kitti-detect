{
 "cells": [
  {
   "cell_type": "code",
   "execution_count": null,
   "id": "171f3b27",
   "metadata": {},
   "outputs": [],
   "source": [
    "import os\n",
    "import json\n",
    "from glob import glob\n",
    "import pandas as pd\n",
    "import numpy as np\n",
    "import matplotlib.pyplot as plt"
   ]
  },
  {
   "cell_type": "code",
   "execution_count": null,
   "id": "9e124656",
   "metadata": {},
   "outputs": [],
   "source": [
    "def json_load(fname):    \n",
    "    with open(fname, 'r') as f:\n",
    "        return json.load(f)      \n",
    "\n",
    "# get logs\n",
    "exp_name = \"t1-final-100-epochs\"\n",
    "log_paths = glob(os.path.join(exp_name, \"*-model-logs-*\"))\n",
    "logs = [json_load(lp) for lp in log_paths]\n",
    "print(\"logs:\", len(logs))"
   ]
  },
  {
   "cell_type": "code",
   "execution_count": null,
   "id": "94400bd2",
   "metadata": {},
   "outputs": [],
   "source": [
    "stat = \"mean\"\n",
    "keys = list(logs[0][0].keys())\n",
    "print(keys)\n",
    "\n",
    "# Tensor n folds x n timessteps x n attributes\n",
    "X = np.zeros((len(logs), len(logs[0]), len(logs[0][0])))\n",
    "for i, log in enumerate(logs):\n",
    "    for t, record in enumerate(log):\n",
    "        for k, v in record.items():\n",
    "            a = keys.index(k)\n",
    "            value = v[stat]\n",
    "            #print(i, t, a, k, value)\n",
    "            X[i, t, a] = value        "
   ]
  },
  {
   "cell_type": "code",
   "execution_count": null,
   "id": "2bca5563",
   "metadata": {},
   "outputs": [],
   "source": [
    "# take mean across the folds\n",
    "import matplotlib.font_manager as font_manager\n",
    "font_manager._rebuild()\n",
    "\n",
    "import matplotlib.ticker as plticker\n",
    "import matplotlib.font_manager as font_manager\n",
    "loc = plticker.MultipleLocator(base=10.0) # this locator puts ticks at regular intervals\n",
    "fontfamily = 'Arial'\n",
    "font = {'fontname':fontfamily, 'fontsize': 10}\n",
    "lg_font = font_manager.FontProperties(family=fontfamily, style='normal', size=8)\n",
    "\n",
    "fig, axes = plt.subplots(nrows=2, ncols=1, figsize=(5.5, 2.5*2), sharex=True)\n",
    "\n",
    "# accuracy\n",
    "axes[0].plot(X[:, :, keys.index('train_acc')].mean(axis=0), label=\"train\")\n",
    "axes[0].plot(X[:, :, keys.index('test_acc')].mean(axis=0), label=\"val\")\n",
    "axes[0].set_ylabel(\"Accuracy\", **font)\n",
    "axes[0].xaxis.set_major_locator(loc)\n",
    "axes[0].legend(prop=lg_font)\n",
    "\n",
    "# IoU\n",
    "axes[1].plot(X[:, :, keys.index('train_iou')].mean(axis=0), label=\"train\")\n",
    "axes[1].plot(X[:, :, keys.index('test_iou')].mean(axis=0), label=\"val\")\n",
    "axes[1].set_ylabel(\"IoU\", **font)\n",
    "axes[1].xaxis.set_major_locator(loc)\n",
    "axes[1].legend(prop=lg_font)\n",
    "\n",
    "# common labels\n",
    "axes[1].set_xlabel(\"Epoch\", **font)\n",
    "\n",
    "# save \n",
    "plt.savefig(\"t1-final/cv.tif\", dpi=300)"
   ]
  }
 ],
 "metadata": {
  "kernelspec": {
   "display_name": "Python 3",
   "language": "python",
   "name": "python3"
  },
  "language_info": {
   "codemirror_mode": {
    "name": "ipython",
    "version": 3
   },
   "file_extension": ".py",
   "mimetype": "text/x-python",
   "name": "python",
   "nbconvert_exporter": "python",
   "pygments_lexer": "ipython3",
   "version": "3.7.10"
  }
 },
 "nbformat": 4,
 "nbformat_minor": 5
}
