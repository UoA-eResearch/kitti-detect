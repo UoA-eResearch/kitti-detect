{
 "cells": [
  {
   "cell_type": "code",
   "execution_count": null,
   "id": "221aad3d",
   "metadata": {},
   "outputs": [],
   "source": [
    "from glob import glob\n",
    "import os\n",
    "import json\n",
    "import pandas as pd\n",
    "import numpy as np"
   ]
  },
  {
   "cell_type": "code",
   "execution_count": null,
   "id": "55e6658e",
   "metadata": {},
   "outputs": [],
   "source": [
    "exp_name = \"t2b\"\n",
    "responses = {'benchmark - SM.xlsx': None, 'benchmark - RP.xlsx': None}\n",
    "#responses = {'benchmark - RP.xlsx': None}"
   ]
  },
  {
   "cell_type": "code",
   "execution_count": null,
   "id": "5a06da2f",
   "metadata": {},
   "outputs": [],
   "source": [
    "# load responses\n",
    "parts = None\n",
    "for r in list(responses.keys()):\n",
    "    r_path = os.path.join(exp_name, 'benchmark', r)    \n",
    "    responses[r] = pd.read_excel(r_path, header=0, index_col=0).dropna()   \n",
    "    if parts is None:\n",
    "        parts = responses[r].columns"
   ]
  },
  {
   "cell_type": "code",
   "execution_count": null,
   "id": "5b4bb1d5",
   "metadata": {},
   "outputs": [],
   "source": [
    "# add answers to responses\n",
    "for name, r in responses.items():\n",
    "    for c in r.columns:\n",
    "        answers_path = os.path.join(exp_name, 'benchmark', c, 'answers.json')        \n",
    "        answers = pd.read_json(answers_path, orient='records').set_index('test_idx')\n",
    "        r[f\"{c}-answers\"] = answers.label_override                "
   ]
  },
  {
   "cell_type": "code",
   "execution_count": null,
   "id": "d422ccea",
   "metadata": {},
   "outputs": [],
   "source": [
    "# load the label map\n",
    "label_map_path = os.path.join(exp_name, f\"{exp_name}-label-map.json\")\n",
    "with open(label_map_path, 'r') as f:\n",
    "    label_map = json.load(f)\n",
    "    \n",
    "reverse_label_map = {v:k for k,v in label_map.items()}    \n",
    "\n",
    "print(label_map)"
   ]
  },
  {
   "cell_type": "code",
   "execution_count": null,
   "id": "915c0436",
   "metadata": {},
   "outputs": [],
   "source": [
    "# create confusion matrices\n",
    "n = len(label_map)\n",
    "con_mat = {k:np.zeros((len(parts), n, n)) for k in responses.keys()}"
   ]
  },
  {
   "cell_type": "code",
   "execution_count": null,
   "id": "077771ad",
   "metadata": {},
   "outputs": [],
   "source": [
    "# score responses\n",
    "for name, r in responses.items():\n",
    "    top_1 = 0\n",
    "    for pid, p in enumerate(parts):\n",
    "        joined = pd.concat([r[p], r[f\"{p}-answers\"]], axis=1)    \n",
    "        \n",
    "        total = 0\n",
    "        correct = 0\n",
    "        \n",
    "        for i in range(len(joined)):\n",
    "            guess, truth = joined.iloc[i]                  \n",
    "            try:\n",
    "                guess, truth = label_map[guess.lower()], label_map[truth]               \n",
    "                con_mat[name][pid][truth][guess] += 1\n",
    "                total += 1\n",
    "                if guess == truth:\n",
    "                    correct += 1\n",
    "            except KeyError:\n",
    "                print(f\"Key error on {name} {p} {i} '{guess}'\")\n",
    "        \n",
    "        #print(name, pid, correct, total, round(100*correct/total, 2))\n",
    "        top_1 += (correct/total)\n",
    "    print(name, round(100 * top_1/len(parts), 1))\n",
    "        \n",
    "        "
   ]
  },
  {
   "cell_type": "code",
   "execution_count": null,
   "id": "b0fe7e4b",
   "metadata": {},
   "outputs": [],
   "source": [
    "n = len(label_map)\n",
    "con_mat_summary = {k:np.zeros((len(parts), n, n)) for k in responses.keys()}\n",
    "\n",
    "for name, cm in con_mat.items():    \n",
    "    print(name)\n",
    "    for i in range(cm.shape[0]):\n",
    "        #print(name, i)\n",
    "        \n",
    "        #print(cm[i])\n",
    "        \n",
    "        cm_r = cm[i].copy()\n",
    "        for r in range(len(reverse_label_map)):\n",
    "            r_sum = cm[i][r, :].sum()\n",
    "            for c in range(len(reverse_label_map)):\n",
    "                cm_r[r, c] = cm[i][r, c] / r_sum\n",
    "                \n",
    "        con_mat_summary[name][i] = cm_r\n",
    "        #print(np.round(cm_r * 100))    \n",
    "        \n",
    "    print(np.round(con_mat_summary[name].mean(axis=0) * 100, 1))"
   ]
  },
  {
   "cell_type": "code",
   "execution_count": null,
   "id": "cc35cd9d",
   "metadata": {},
   "outputs": [],
   "source": []
  },
  {
   "cell_type": "code",
   "execution_count": null,
   "id": "8f819285",
   "metadata": {},
   "outputs": [],
   "source": [
    "print(label_map)"
   ]
  },
  {
   "cell_type": "code",
   "execution_count": null,
   "id": "85315934",
   "metadata": {},
   "outputs": [],
   "source": []
  }
 ],
 "metadata": {
  "kernelspec": {
   "display_name": "Python 3",
   "language": "python",
   "name": "python3"
  },
  "language_info": {
   "codemirror_mode": {
    "name": "ipython",
    "version": 3
   },
   "file_extension": ".py",
   "mimetype": "text/x-python",
   "name": "python",
   "nbconvert_exporter": "python",
   "pygments_lexer": "ipython3",
   "version": "3.7.10"
  }
 },
 "nbformat": 4,
 "nbformat_minor": 5
}
