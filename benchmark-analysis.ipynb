{
 "cells": [
  {
   "cell_type": "code",
   "execution_count": null,
   "id": "424607e3",
   "metadata": {},
   "outputs": [],
   "source": [
    "%load_ext autoreload\n",
    "%autoreload 2"
   ]
  },
  {
   "cell_type": "code",
   "execution_count": null,
   "id": "221aad3d",
   "metadata": {},
   "outputs": [],
   "source": [
    "from glob import glob\n",
    "import os\n",
    "import json\n",
    "import pandas as pd\n",
    "import numpy as np\n",
    "from common import *"
   ]
  },
  {
   "cell_type": "code",
   "execution_count": null,
   "id": "4083b959",
   "metadata": {},
   "outputs": [],
   "source": [
    "# load benchmark reference paths\n",
    "exp_name = \"t2b\"\n",
    "responses = {'P1': None, 'P2': None} # note participant initials have been replaced with P1, P2\n",
    "benchmark_dir = os.path.join(exp_name, 'benchmark')\n",
    "answers_paths = [os.path.join(benchmark_dir, f'{exp_name}-part-{i}', 'answers.json') for i in range(5)]    "
   ]
  },
  {
   "cell_type": "code",
   "execution_count": null,
   "id": "ae55fddf",
   "metadata": {},
   "outputs": [],
   "source": [
    "# load human responses\n",
    "data = []\n",
    "for r in list(responses.keys()):\n",
    "    r_path = os.path.join(exp_name, 'benchmark', f'{r}.xlsx')    \n",
    "    responses[r] = pd.read_excel(r_path, header=0, index_col=0)\n",
    "\n",
    "# iterate over partitions\n",
    "for pi, part in enumerate([os.path.join(benchmark_dir,  f'{exp_name}-part-{i}') for i in range(5)]):\n",
    "    col_name = os.path.basename(part)\n",
    "    answers_path = os.path.join(part, 'answers.json')\n",
    "    \n",
    "    # load answers\n",
    "    with open(answers_path, 'r') as f:\n",
    "        answers = json.load(f)\n",
    "    \n",
    "    # append responses\n",
    "    for r in list(responses.keys()):\n",
    "        for i, a in enumerate(answers):            \n",
    "            answers[i][f'{r}'] = responses[r].iloc[i, pi].lower()    \n",
    "    \n",
    "    # append to master list\n",
    "    data += answers"
   ]
  },
  {
   "cell_type": "code",
   "execution_count": null,
   "id": "f470e9ed",
   "metadata": {},
   "outputs": [],
   "source": [
    "# load machine responses\n",
    "machine_response_path = os.path.join(\"t1-final\", f\"t1-final-benchmark-results.json\")\n",
    "with open(machine_response_path, 'r') as f:\n",
    "    m_result = json.load(f)\n",
    "    m_result = pd.DataFrame.from_dict(m_result)\n",
    "    m_result['image_path'] = m_result['image_path'].apply(lambda x: os.path.basename(x))\n",
    "    m_result.columns = ['image_path', 'M', 'IoU']\n",
    "    m_result = m_result.set_index('image_path')"
   ]
  },
  {
   "cell_type": "code",
   "execution_count": null,
   "id": "44dade98",
   "metadata": {},
   "outputs": [],
   "source": [
    "m_result"
   ]
  },
  {
   "cell_type": "code",
   "execution_count": null,
   "id": "c22daf5f",
   "metadata": {},
   "outputs": [],
   "source": [
    "benchmark = pd.DataFrame.from_dict(data).dropna().drop(columns=['test_idx', 'label_path']).drop_duplicates(\"image_path\")\n",
    "benchmark['image_path'] = benchmark['image_path'].apply(lambda x: os.path.basename(x))\n",
    "benchmark = benchmark.set_index('image_path')\n",
    "\n",
    "# override labels\n",
    "benchmark[benchmark != 'rock'] = 'artefact'\n",
    "\n",
    "# join with machine results\n",
    "benchmark = pd.concat((benchmark, m_result), axis=1)\n",
    "\n",
    "# rename columns\n",
    "benchmark.index.names = [\"image\"]\n",
    "benchmark.columns = [\"label\"] + benchmark.columns.values.tolist()[1:]\n",
    "benchmark"
   ]
  },
  {
   "cell_type": "code",
   "execution_count": null,
   "id": "a7a590c8",
   "metadata": {},
   "outputs": [],
   "source": [
    "print(benchmark.label.value_counts())\n",
    "print('Total', len(benchmark))"
   ]
  },
  {
   "cell_type": "code",
   "execution_count": null,
   "id": "5f6d225d",
   "metadata": {},
   "outputs": [],
   "source": [
    "# accuracy\n",
    "cols = benchmark.columns[1:].tolist()\n",
    "cols.remove('IoU')\n",
    "\n",
    "for p in cols:\n",
    "    print(p)\n",
    "    result = benchmark[p] == benchmark.label\n",
    "    score = sum(result) / len(benchmark)\n",
    "    print(f\"{sum(result)}, {score:.3f}\")"
   ]
  },
  {
   "cell_type": "code",
   "execution_count": null,
   "id": "8991e3c3",
   "metadata": {},
   "outputs": [],
   "source": [
    "# IoU\n",
    "print(benchmark.IoU.mean(), benchmark.IoU.std())"
   ]
  },
  {
   "cell_type": "code",
   "execution_count": null,
   "id": "10548f09",
   "metadata": {},
   "outputs": [],
   "source": [
    "# time 6.79 hrs"
   ]
  }
 ],
 "metadata": {
  "kernelspec": {
   "display_name": "Python 3",
   "language": "python",
   "name": "python3"
  },
  "language_info": {
   "codemirror_mode": {
    "name": "ipython",
    "version": 3
   },
   "file_extension": ".py",
   "mimetype": "text/x-python",
   "name": "python",
   "nbconvert_exporter": "python",
   "pygments_lexer": "ipython3",
   "version": "3.7.10"
  }
 },
 "nbformat": 4,
 "nbformat_minor": 5
}
