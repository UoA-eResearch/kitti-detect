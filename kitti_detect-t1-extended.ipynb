{
 "cells": [
  {
   "cell_type": "code",
   "execution_count": 1,
   "id": "4c3d9852",
   "metadata": {},
   "outputs": [],
   "source": [
    "# warning: current data partitioning with label overrides assumes one object per image\n",
    "\n",
    "# credit to: https://towardsdatascience.com/building-your-own-object-detector-pytorch-vs-tensorflow-and-how-to-even-get-started-1d314691d4ae\n",
    "# for initial ideas\n",
    "\n",
    "# installing key packages:\n",
    "# conda install pytorch torchvision torchaudio cudatoolkit=11.0 -c pytorch -c nvidia"
   ]
  },
  {
   "cell_type": "code",
   "execution_count": 2,
   "id": "hispanic-inclusion",
   "metadata": {},
   "outputs": [],
   "source": [
    "%load_ext autoreload\n",
    "%autoreload 2"
   ]
  },
  {
   "cell_type": "code",
   "execution_count": 3,
   "id": "atomic-bangladesh",
   "metadata": {},
   "outputs": [],
   "source": [
    "import pycocotools\n",
    "from PIL import Image, ExifTags\n",
    "import matplotlib.pyplot as plt\n",
    "import matplotlib.patches as patches\n",
    "import os\n",
    "from glob import glob\n",
    "from skimage import transform\n",
    "\n",
    "import torch\n",
    "import torch.utils.data\n",
    "import torchvision\n",
    "from torchvision.models.detection.faster_rcnn import FastRCNNPredictor\n",
    "\n",
    "from engine import train_one_epoch, evaluate\n",
    "import utils\n",
    "import transforms as T\n",
    "\n",
    "import pandas as pd\n",
    "import random\n",
    "\n",
    "from common import parse_kitti\n",
    "import json\n",
    "import numpy as np"
   ]
  },
  {
   "cell_type": "code",
   "execution_count": 4,
   "id": "opposed-recycling",
   "metadata": {},
   "outputs": [],
   "source": [
    "class KITTIDataset(torch.utils.data.Dataset):\n",
    "    \n",
    "    def __init__(self, records, label_map, use_label_overrides=False, transforms=None):\n",
    "        super().__init__()\n",
    "        self.transforms = transforms\n",
    "        self.records = records\n",
    "        self.label_map = label_map\n",
    "        self.use_label_overrides = use_label_overrides\n",
    "        \n",
    "        if (self.use_label_overrides):\n",
    "            print(\"Warning, label overrides assume one object per image\")\n",
    "    \n",
    "    def get_image_path(self, idx):\n",
    "        return self.records[idx]['image_path']   \n",
    "    \n",
    "    def get_label_path(self, idx):\n",
    "        return self.records[idx]['label_path']   \n",
    "    \n",
    "    def get_label_override(self, idx):\n",
    "        return self.records[idx]['label_override']   \n",
    "        \n",
    "    def __getitem__(self, idx):\n",
    "        \n",
    "        try:\n",
    "            # load images and bounding boxes        \n",
    "            image_path = self.get_image_path(idx)\n",
    "            label_path = self.get_label_path(idx)\n",
    "            label_override = self.get_label_override(idx)\n",
    "\n",
    "            img = Image.open(image_path).convert(\"RGB\")\n",
    "            objects = parse_kitti(label_path)                \n",
    "            boxes = torch.tensor([o['bounds'] for o in objects], dtype=torch.float32)\n",
    "            \n",
    "            # relabel if needed\n",
    "            if self.use_label_overrides:\n",
    "                labels = torch.tensor([self.label_map[label_override] for o in objects], dtype=torch.int64)\n",
    "            else:\n",
    "                labels = torch.tensor([self.label_map[o['label']] for o in objects], dtype=torch.int64)\n",
    "\n",
    "            target = {}\n",
    "            target[\"boxes\"] = boxes\n",
    "            target[\"labels\"] = labels\n",
    "            target[\"image_id\"] = torch.tensor([idx])\n",
    "            target[\"area\"] = (boxes[:, 3] - boxes[:, 1]) * (boxes[:, 2] - boxes[:,0])\n",
    "            target[\"iscrowd\"] = torch.zeros((len(objects),), dtype=torch.int64)            \n",
    "\n",
    "            if self.transforms is not None:\n",
    "                img, target = self.transforms(img, target)\n",
    "\n",
    "            return img, target\n",
    "        \n",
    "        except Exception as e:            \n",
    "            print(self.records[idx])\n",
    "            raise e\n",
    "    \n",
    "    def __len__(self):\n",
    "        return len(self.records)"
   ]
  },
  {
   "cell_type": "code",
   "execution_count": 5,
   "id": "basic-richards",
   "metadata": {},
   "outputs": [],
   "source": [
    "def get_transforms(train):\n",
    "    transforms = []\n",
    "    # converts the image, a PIL image, into a PyTorch Tensor\n",
    "    transforms.append(T.ToTensor())\n",
    "    if train:\n",
    "        # during training, randomly flip the training images\n",
    "        # and ground-truth for data augmentation\n",
    "        transforms.append(T.RandomHorizontalFlip(0.5))        \n",
    "    return T.Compose(transforms)"
   ]
  },
  {
   "cell_type": "code",
   "execution_count": 6,
   "id": "viral-elephant",
   "metadata": {},
   "outputs": [],
   "source": [
    "def get_model(num_classes, pretrained=False):\n",
    "    # load an object detection model pre-trained on COCO\n",
    "    model = torchvision.models.detection.fasterrcnn_resnet50_fpn(pretrained=pretrained)\n",
    "\n",
    "    # get the number of input features for the classifier\n",
    "    in_features = model.roi_heads.box_predictor.cls_score.in_features\n",
    "    \n",
    "    # replace the pre-trained head with a new on\n",
    "    model.roi_heads.box_predictor = FastRCNNPredictor(in_features, num_classes)\n",
    "\n",
    "    return model"
   ]
  },
  {
   "cell_type": "code",
   "execution_count": 7,
   "id": "acoustic-mumbai",
   "metadata": {},
   "outputs": [],
   "source": [
    "def display_annotation(image, target, label_map, prediction=None, thresh=0, size=None, title=\"\"):\n",
    "    \n",
    "    # invert labelmap\n",
    "    label_map = {v:k for k,v in label_map.items()}\n",
    "    \n",
    "    label_offset_x = 0\n",
    "    label_offset_y = -2\n",
    "    fig, ax = plt.subplots(figsize=size)   \n",
    "    image = image.permute(1, 2, 0).cpu().numpy()\n",
    "    \n",
    "    # image resize\n",
    "    #width, height, channels = image.shape\n",
    "    #image = transform.resize(image, (2*width, 2*height))\n",
    "    \n",
    "    ax.imshow(image) # assumes image is a torch.tensor\n",
    "    \n",
    "    # ground truth\n",
    "    boxes = target['boxes']    \n",
    "    for i in range(boxes.size()[0]):\n",
    "        x1, y1, x2, y2 = target['boxes'][i]\n",
    "        rect = patches.Rectangle((x1, y1), x2-x1, y2-y1, linewidth=1, edgecolor='r', facecolor='none')    \n",
    "        ax.add_patch(rect)\n",
    "        ax.text(x1 + label_offset_x, y1 + label_offset_y, f\"{label_map[target['labels'][i].item()]}\", color='r')\n",
    "        if title:\n",
    "            ax.set_title(title)\n",
    "        \n",
    "    # prediction\n",
    "    if prediction:\n",
    "        boxes, scores, labels = prediction['boxes'], prediction['scores'], prediction['labels']\n",
    "        for i in range(boxes.size()[0]):            \n",
    "            if scores[i] > thresh:\n",
    "                x1, y1, x2, y2 = boxes[i]\n",
    "                rect = patches.Rectangle((x1, y1), x2-x1, y2-y1, linewidth=1, edgecolor='g', facecolor='none')    \n",
    "                ax.add_patch(rect)  \n",
    "                text = f\"{label_map[labels[i].item()]} {scores[i]:.2f}\"\n",
    "                ax.text(x1 + label_offset_x, y2 - 6*label_offset_y, text, color='g')\n",
    "    plt.show()        "
   ]
  },
  {
   "cell_type": "code",
   "execution_count": 8,
   "id": "c71d858c",
   "metadata": {},
   "outputs": [],
   "source": [
    "def load_partitions(pattern):\n",
    "    parts = []\n",
    "    paths = glob(pattern)\n",
    "    for p in paths:\n",
    "        with open(p, 'r') as f:\n",
    "            parts.append(json.load(f))\n",
    "    return parts\n",
    "\n",
    "def train_test_partitions(parts, test_idx):\n",
    "    p_test = parts[test_idx]\n",
    "    p_train = []\n",
    "    for i in range(len(parts)):\n",
    "        if i != test_idx:\n",
    "            p_train += parts[i]\n",
    "    return p_train, p_test"
   ]
  },
  {
   "cell_type": "markdown",
   "id": "a618232b",
   "metadata": {},
   "source": [
    "# Data"
   ]
  },
  {
   "cell_type": "code",
   "execution_count": 9,
   "id": "5186ba97",
   "metadata": {},
   "outputs": [
    {
     "name": "stdout",
     "output_type": "stream",
     "text": [
      "folds: 5, test_fold: 3, train samples: 5413, test samples: 1356\n",
      "label map: {'background': 0, 'rock': 1, 'artefact': 2}\n"
     ]
    }
   ],
   "source": [
    "# experiment name corresponds to the foldername and file prefix for data partitions and label maps\n",
    "exp_name = \"t1-extended\"\n",
    "\n",
    "# load train and test data partitions\n",
    "pattern = f\"{exp_name}/{exp_name}-part-*.json\"\n",
    "partitions = load_partitions(pattern)\n",
    "\n",
    "test_fold = 3 # index of the test partition\n",
    "\n",
    "data_train, data_test = train_test_partitions(partitions, test_fold)\n",
    "print(f\"folds: {len(partitions)}, test_fold: {test_fold}, train samples: {len(data_train)}, test samples: {len(data_test)}\")\n",
    "\n",
    "# load the label map\n",
    "label_map_path = f\"{exp_name}/{exp_name}-label-map.json\"\n",
    "with open(label_map_path, 'r') as f:\n",
    "    label_map = json.load(f)\n",
    "print(f\"label map: {label_map}\")\n",
    "reverse_label_map = {v:k for k,v in label_map.items()}\n",
    "\n",
    "use_label_overrides = True"
   ]
  },
  {
   "cell_type": "code",
   "execution_count": 10,
   "id": "a17c9e1e",
   "metadata": {},
   "outputs": [],
   "source": [
    "#data_train = data_train[:100]"
   ]
  },
  {
   "cell_type": "code",
   "execution_count": 11,
   "id": "entitled-pressure",
   "metadata": {},
   "outputs": [
    {
     "name": "stdout",
     "output_type": "stream",
     "text": [
      "Warning, label overrides assume one object per image\n",
      "Warning, label overrides assume one object per image\n"
     ]
    }
   ],
   "source": [
    "# define datasets and data loaders\n",
    "batch_size = 32\n",
    "ds = KITTIDataset(data_train, label_map, use_label_overrides=use_label_overrides, transforms=get_transforms(train=True))\n",
    "ds_test = KITTIDataset(data_test, label_map, use_label_overrides=use_label_overrides, transforms=get_transforms(train=False))\n",
    "\n",
    "dl = torch.utils.data.DataLoader(ds, batch_size=batch_size, shuffle=True, num_workers=1, collate_fn=utils.collate_fn)\n",
    "dl_test = torch.utils.data.DataLoader(ds_test, batch_size=1, shuffle=False, num_workers=1, collate_fn=utils.collate_fn)"
   ]
  },
  {
   "cell_type": "markdown",
   "id": "increased-premises",
   "metadata": {},
   "source": [
    "### Data Review"
   ]
  },
  {
   "cell_type": "code",
   "execution_count": 12,
   "id": "28bfec60",
   "metadata": {},
   "outputs": [
    {
     "data": {
      "image/png": "[encoded data removed]",
      "text/plain": [
       "<Figure size 360x360 with 1 Axes>"
      ]
     },
     "metadata": {
      "needs_background": "light"
     },
     "output_type": "display_data"
    }
   ],
   "source": [
    "# check example training image\n",
    "image, target = ds[random.randrange(len(ds))]\n",
    "display_annotation(image, target, label_map, size=(5, 5))"
   ]
  },
  {
   "cell_type": "code",
   "execution_count": 13,
   "id": "naughty-collapse",
   "metadata": {
    "scrolled": false
   },
   "outputs": [],
   "source": [
    "# # check all images\n",
    "# for i, path in enumerate(ds.img_paths):\n",
    "#     image, target = ds[i]    \n",
    "#     display_annotation(image, target, label_map, title=f\"[{i}]: {path}\")"
   ]
  },
  {
   "cell_type": "code",
   "execution_count": 14,
   "id": "f9083552",
   "metadata": {},
   "outputs": [
    {
     "data": {
      "image/png": "[encoded data removed]",
      "text/plain": [
       "<Figure size 360x360 with 1 Axes>"
      ]
     },
     "metadata": {
      "needs_background": "light"
     },
     "output_type": "display_data"
    }
   ],
   "source": [
    "# check example test image\n",
    "image, target = ds_test[random.randrange(len(ds_test))]\n",
    "display_annotation(image, target, label_map, size=(5, 5))"
   ]
  },
  {
   "cell_type": "code",
   "execution_count": 15,
   "id": "a711a548",
   "metadata": {},
   "outputs": [],
   "source": [
    "# # check all test images\n",
    "# for i in range(n_test):\n",
    "#     image, target = ds_test[i]\n",
    "#     display_annotation(image, target, label_map)"
   ]
  },
  {
   "cell_type": "markdown",
   "id": "dangerous-beauty",
   "metadata": {},
   "source": [
    "# Training"
   ]
  },
  {
   "cell_type": "code",
   "execution_count": 16,
   "id": "regular-gallery",
   "metadata": {},
   "outputs": [
    {
     "name": "stdout",
     "output_type": "stream",
     "text": [
      "device: cuda\n"
     ]
    }
   ],
   "source": [
    "device = torch.device('cuda') if torch.cuda.is_available() else torch.device('cpu')\n",
    "#device = torch.device('cpu')\n",
    "print('device:', device)"
   ]
  },
  {
   "cell_type": "code",
   "execution_count": 17,
   "id": "empty-stroke",
   "metadata": {},
   "outputs": [],
   "source": [
    "model = get_model(len(label_map)).to(device)"
   ]
  },
  {
   "cell_type": "code",
   "execution_count": 18,
   "id": "divided-reason",
   "metadata": {},
   "outputs": [],
   "source": [
    "# construct an optimizer\n",
    "params = [p for p in model.parameters() if p.requires_grad]\n",
    "#optimizer = torch.optim.SGD(params, lr=0.005, momentum=0.9, weight_decay=0.0005)\n",
    "optimizer = torch.optim.Adam(params, lr=0.001)\n",
    "# and a learning rate scheduler which decreases the learning rate by # 10x every 3 epochs\n",
    "#lr_scheduler = torch.optim.lr_scheduler.StepLR(optimizer, step_size=3, gamma=0.1)"
   ]
  },
  {
   "cell_type": "code",
   "execution_count": null,
   "id": "developed-display",
   "metadata": {
    "scrolled": false
   },
   "outputs": [
    {
     "name": "stdout",
     "output_type": "stream",
     "text": [
      "Epoch: [0]  [  0/170]  eta: 0:08:13  lr: 0.000007  loss: 1.8071 (1.8071)  loss_classifier: 1.0678 (1.0678)  loss_box_reg: 0.0378 (0.0378)  loss_objectness: 0.6957 (0.6957)  loss_rpn_box_reg: 0.0058 (0.0058)  time: 2.9039  data: 0.4772  max mem: 22331\n",
      "Epoch: [0]  [ 10/170]  eta: 0:05:29  lr: 0.000066  loss: 1.3589 (1.2830)  loss_classifier: 0.6091 (0.6025)  loss_box_reg: 0.0487 (0.0450)  loss_objectness: 0.6905 (0.6294)  loss_rpn_box_reg: 0.0058 (0.0061)  time: 2.0571  data: 0.0948  max mem: 22757\n",
      "Epoch: [0]  [ 20/170]  eta: 0:05:04  lr: 0.000125  loss: 0.6232 (0.8664)  loss_classifier: 0.2407 (0.4265)  loss_box_reg: 0.0546 (0.0672)  loss_objectness: 0.1530 (0.3668)  loss_rpn_box_reg: 0.0053 (0.0058)  time: 1.9859  data: 0.0597  max mem: 22757\n",
      "Epoch: [0]  [ 30/170]  eta: 0:04:42  lr: 0.000184  loss: 0.3492 (0.7028)  loss_classifier: 0.1955 (0.3514)  loss_box_reg: 0.1107 (0.0877)  loss_objectness: 0.0352 (0.2577)  loss_rpn_box_reg: 0.0055 (0.0059)  time: 1.9981  data: 0.0632  max mem: 22757\n",
      "Epoch: [0]  [ 40/170]  eta: 0:04:22  lr: 0.000243  loss: 0.2962 (0.5933)  loss_classifier: 0.1432 (0.2968)  loss_box_reg: 0.1099 (0.0912)  loss_objectness: 0.0208 (0.1996)  loss_rpn_box_reg: 0.0053 (0.0057)  time: 2.0006  data: 0.0617  max mem: 22757\n",
      "Epoch: [0]  [ 50/170]  eta: 0:04:01  lr: 0.000302  loss: 0.2130 (0.5201)  loss_classifier: 0.1027 (0.2593)  loss_box_reg: 0.0902 (0.0919)  loss_objectness: 0.0171 (0.1630)  loss_rpn_box_reg: 0.0057 (0.0059)  time: 2.0032  data: 0.0612  max mem: 22757\n",
      "Epoch: [0]  [ 60/170]  eta: 0:03:41  lr: 0.000362  loss: 0.2018 (0.4686)  loss_classifier: 0.0949 (0.2326)  loss_box_reg: 0.0889 (0.0919)  loss_objectness: 0.0115 (0.1382)  loss_rpn_box_reg: 0.0059 (0.0058)  time: 2.0028  data: 0.0652  max mem: 22757\n",
      "Epoch: [0]  [ 70/170]  eta: 0:03:20  lr: 0.000421  loss: 0.1842 (0.4285)  loss_classifier: 0.0800 (0.2111)  loss_box_reg: 0.0858 (0.0916)  loss_objectness: 0.0097 (0.1201)  loss_rpn_box_reg: 0.0050 (0.0057)  time: 1.9992  data: 0.0652  max mem: 22757\n",
      "Epoch: [0]  [ 80/170]  eta: 0:03:00  lr: 0.000480  loss: 0.1790 (0.3970)  loss_classifier: 0.0731 (0.1941)  loss_box_reg: 0.0844 (0.0907)  loss_objectness: 0.0072 (0.1065)  loss_rpn_box_reg: 0.0045 (0.0056)  time: 1.9890  data: 0.0604  max mem: 22757\n",
      "Epoch: [0]  [ 90/170]  eta: 0:02:40  lr: 0.000539  loss: 0.1651 (0.3719)  loss_classifier: 0.0683 (0.1800)  loss_box_reg: 0.0784 (0.0893)  loss_objectness: 0.0057 (0.0962)  loss_rpn_box_reg: 0.0046 (0.0064)  time: 1.9902  data: 0.0627  max mem: 22757\n",
      "Epoch: [0]  [100/170]  eta: 0:02:20  lr: 0.000598  loss: 0.1463 (0.3489)  loss_classifier: 0.0613 (0.1681)  loss_box_reg: 0.0718 (0.0875)  loss_objectness: 0.0048 (0.0871)  loss_rpn_box_reg: 0.0042 (0.0062)  time: 1.9779  data: 0.0662  max mem: 22757\n",
      "Epoch: [0]  [110/170]  eta: 0:01:59  lr: 0.000657  loss: 0.1233 (0.3283)  loss_classifier: 0.0540 (0.1574)  loss_box_reg: 0.0624 (0.0852)  loss_objectness: 0.0036 (0.0796)  loss_rpn_box_reg: 0.0043 (0.0061)  time: 1.9531  data: 0.0649  max mem: 22757\n",
      "Epoch: [0]  [120/170]  eta: 0:01:39  lr: 0.000716  loss: 0.1139 (0.3110)  loss_classifier: 0.0456 (0.1484)  loss_box_reg: 0.0611 (0.0832)  loss_objectness: 0.0045 (0.0735)  loss_rpn_box_reg: 0.0044 (0.0060)  time: 1.9590  data: 0.0656  max mem: 22757\n",
      "Epoch: [0]  [130/170]  eta: 0:01:19  lr: 0.000775  loss: 0.1317 (0.2992)  loss_classifier: 0.0560 (0.1419)  loss_box_reg: 0.0669 (0.0835)  loss_objectness: 0.0046 (0.0681)  loss_rpn_box_reg: 0.0038 (0.0058)  time: 1.9780  data: 0.0674  max mem: 22757\n",
      "Epoch: [0]  [140/170]  eta: 0:00:59  lr: 0.000834  loss: 0.1505 (0.2885)  loss_classifier: 0.0593 (0.1359)  loss_box_reg: 0.0832 (0.0834)  loss_objectness: 0.0030 (0.0635)  loss_rpn_box_reg: 0.0036 (0.0056)  time: 1.9939  data: 0.0705  max mem: 22757\n",
      "Epoch: [0]  [150/170]  eta: 0:00:39  lr: 0.000894  loss: 0.1454 (0.2788)  loss_classifier: 0.0553 (0.1306)  loss_box_reg: 0.0821 (0.0832)  loss_objectness: 0.0036 (0.0596)  loss_rpn_box_reg: 0.0035 (0.0055)  time: 1.9922  data: 0.0674  max mem: 22757\n",
      "Epoch: [0]  [160/170]  eta: 0:00:19  lr: 0.000953  loss: 0.1399 (0.2706)  loss_classifier: 0.0506 (0.1258)  loss_box_reg: 0.0821 (0.0833)  loss_objectness: 0.0038 (0.0561)  loss_rpn_box_reg: 0.0031 (0.0053)  time: 1.9873  data: 0.0592  max mem: 22757\n",
      "Epoch: [0]  [169/170]  eta: 0:00:01  lr: 0.001000  loss: 0.1348 (0.2636)  loss_classifier: 0.0487 (0.1217)  loss_box_reg: 0.0821 (0.0833)  loss_objectness: 0.0028 (0.0533)  loss_rpn_box_reg: 0.0032 (0.0053)  time: 1.9102  data: 0.0542  max mem: 22757\n",
      "Epoch: [0] Total time: 0:05:37 (1.9835 s / it)\n",
      "Epoch: [1]  [  0/170]  eta: 0:06:44  lr: 0.001000  loss: 0.0982 (0.0982)  loss_classifier: 0.0336 (0.0336)  loss_box_reg: 0.0585 (0.0585)  loss_objectness: 0.0032 (0.0032)  loss_rpn_box_reg: 0.0029 (0.0029)  time: 2.3773  data: 0.4436  max mem: 22757\n",
      "Epoch: [1]  [ 10/170]  eta: 0:05:24  lr: 0.001000  loss: 0.1345 (0.1355)  loss_classifier: 0.0484 (0.0537)  loss_box_reg: 0.0664 (0.0673)  loss_objectness: 0.0072 (0.0087)  loss_rpn_box_reg: 0.0044 (0.0057)  time: 2.0309  data: 0.0921  max mem: 22757\n",
      "Epoch: [1]  [ 20/170]  eta: 0:05:01  lr: 0.001000  loss: 0.1191 (0.1240)  loss_classifier: 0.0433 (0.0476)  loss_box_reg: 0.0627 (0.0651)  loss_objectness: 0.0051 (0.0066)  loss_rpn_box_reg: 0.0039 (0.0048)  time: 1.9915  data: 0.0583  max mem: 22757\n",
      "Epoch: [1]  [ 30/170]  eta: 0:04:40  lr: 0.001000  loss: 0.1148 (0.1274)  loss_classifier: 0.0389 (0.0465)  loss_box_reg: 0.0654 (0.0669)  loss_objectness: 0.0040 (0.0084)  loss_rpn_box_reg: 0.0036 (0.0056)  time: 1.9861  data: 0.0591  max mem: 22757\n",
      "Epoch: [1]  [ 40/170]  eta: 0:04:18  lr: 0.001000  loss: 0.1172 (0.1261)  loss_classifier: 0.0395 (0.0453)  loss_box_reg: 0.0680 (0.0684)  loss_objectness: 0.0034 (0.0073)  loss_rpn_box_reg: 0.0035 (0.0052)  time: 1.9655  data: 0.0606  max mem: 22757\n",
      "Epoch: [1]  [ 50/170]  eta: 0:03:57  lr: 0.001000  loss: 0.1002 (0.1191)  loss_classifier: 0.0335 (0.0421)  loss_box_reg: 0.0606 (0.0657)  loss_objectness: 0.0031 (0.0064)  loss_rpn_box_reg: 0.0033 (0.0050)  time: 1.9423  data: 0.0639  max mem: 22757\n",
      "Epoch: [1]  [ 60/170]  eta: 0:03:36  lr: 0.001000  loss: 0.0774 (0.1113)  loss_classifier: 0.0207 (0.0384)  loss_box_reg: 0.0488 (0.0624)  loss_objectness: 0.0025 (0.0058)  loss_rpn_box_reg: 0.0034 (0.0047)  time: 1.9346  data: 0.0646  max mem: 22757\n",
      "Epoch: [1]  [ 70/170]  eta: 0:03:16  lr: 0.001000  loss: 0.0744 (0.1074)  loss_classifier: 0.0205 (0.0363)  loss_box_reg: 0.0482 (0.0611)  loss_objectness: 0.0024 (0.0055)  loss_rpn_box_reg: 0.0033 (0.0045)  time: 1.9423  data: 0.0666  max mem: 22757\n",
      "Epoch: [1]  [ 80/170]  eta: 0:02:56  lr: 0.001000  loss: 0.0859 (0.1054)  loss_classifier: 0.0255 (0.0352)  loss_box_reg: 0.0551 (0.0607)  loss_objectness: 0.0022 (0.0051)  loss_rpn_box_reg: 0.0032 (0.0044)  time: 1.9518  data: 0.0679  max mem: 22757\n",
      "Epoch: [1]  [ 90/170]  eta: 0:02:37  lr: 0.001000  loss: 0.0969 (0.1047)  loss_classifier: 0.0297 (0.0347)  loss_box_reg: 0.0615 (0.0611)  loss_objectness: 0.0020 (0.0047)  loss_rpn_box_reg: 0.0026 (0.0041)  time: 1.9490  data: 0.0660  max mem: 22757\n",
      "Epoch: [1]  [100/170]  eta: 0:02:17  lr: 0.001000  loss: 0.0988 (0.1050)  loss_classifier: 0.0290 (0.0340)  loss_box_reg: 0.0631 (0.0616)  loss_objectness: 0.0022 (0.0051)  loss_rpn_box_reg: 0.0025 (0.0044)  time: 1.9457  data: 0.0641  max mem: 22757\n",
      "Epoch: [1]  [110/170]  eta: 0:01:57  lr: 0.001000  loss: 0.0984 (0.1038)  loss_classifier: 0.0274 (0.0335)  loss_box_reg: 0.0624 (0.0613)  loss_objectness: 0.0016 (0.0047)  loss_rpn_box_reg: 0.0031 (0.0043)  time: 1.9613  data: 0.0661  max mem: 22757\n",
      "Epoch: [1]  [120/170]  eta: 0:01:38  lr: 0.001000  loss: 0.0899 (0.1030)  loss_classifier: 0.0286 (0.0332)  loss_box_reg: 0.0576 (0.0611)  loss_objectness: 0.0015 (0.0045)  loss_rpn_box_reg: 0.0032 (0.0042)  time: 1.9729  data: 0.0683  max mem: 22757\n",
      "Epoch: [1]  [130/170]  eta: 0:01:18  lr: 0.001000  loss: 0.0999 (0.1032)  loss_classifier: 0.0317 (0.0334)  loss_box_reg: 0.0608 (0.0613)  loss_objectness: 0.0018 (0.0043)  loss_rpn_box_reg: 0.0026 (0.0041)  time: 1.9699  data: 0.0678  max mem: 22757\n",
      "Epoch: [1]  [140/170]  eta: 0:00:58  lr: 0.001000  loss: 0.1002 (0.1030)  loss_classifier: 0.0330 (0.0335)  loss_box_reg: 0.0618 (0.0613)  loss_objectness: 0.0019 (0.0042)  loss_rpn_box_reg: 0.0025 (0.0040)  time: 1.9679  data: 0.0673  max mem: 22757\n"
     ]
    },
    {
     "name": "stdout",
     "output_type": "stream",
     "text": [
      "Epoch: [1]  [150/170]  eta: 0:00:39  lr: 0.001000  loss: 0.1062 (0.1039)  loss_classifier: 0.0338 (0.0337)  loss_box_reg: 0.0671 (0.0623)  loss_objectness: 0.0017 (0.0040)  loss_rpn_box_reg: 0.0025 (0.0039)  time: 1.9674  data: 0.0670  max mem: 22757\n",
      "Epoch: [1]  [160/170]  eta: 0:00:19  lr: 0.001000  loss: 0.1171 (0.1049)  loss_classifier: 0.0349 (0.0337)  loss_box_reg: 0.0798 (0.0635)  loss_objectness: 0.0015 (0.0039)  loss_rpn_box_reg: 0.0026 (0.0038)  time: 1.9696  data: 0.0654  max mem: 22757\n",
      "Epoch: [1]  [169/170]  eta: 0:00:01  lr: 0.001000  loss: 0.1161 (0.1050)  loss_classifier: 0.0335 (0.0338)  loss_box_reg: 0.0713 (0.0637)  loss_objectness: 0.0014 (0.0038)  loss_rpn_box_reg: 0.0027 (0.0038)  time: 1.8915  data: 0.0659  max mem: 22757\n",
      "Epoch: [1] Total time: 0:05:32 (1.9566 s / it)\n",
      "Epoch: [2]  [  0/170]  eta: 0:06:31  lr: 0.001000  loss: 0.1107 (0.1107)  loss_classifier: 0.0343 (0.0343)  loss_box_reg: 0.0714 (0.0714)  loss_objectness: 0.0018 (0.0018)  loss_rpn_box_reg: 0.0032 (0.0032)  time: 2.3042  data: 0.3990  max mem: 22757\n",
      "Epoch: [2]  [ 10/170]  eta: 0:05:18  lr: 0.001000  loss: 0.0916 (0.0943)  loss_classifier: 0.0302 (0.0291)  loss_box_reg: 0.0591 (0.0609)  loss_objectness: 0.0015 (0.0015)  loss_rpn_box_reg: 0.0027 (0.0028)  time: 1.9904  data: 0.0881  max mem: 22757\n",
      "Epoch: [2]  [ 20/170]  eta: 0:04:56  lr: 0.001000  loss: 0.0939 (0.0944)  loss_classifier: 0.0289 (0.0294)  loss_box_reg: 0.0601 (0.0610)  loss_objectness: 0.0011 (0.0015)  loss_rpn_box_reg: 0.0023 (0.0025)  time: 1.9625  data: 0.0594  max mem: 22757\n",
      "Epoch: [2]  [ 30/170]  eta: 0:04:36  lr: 0.001000  loss: 0.0943 (0.0980)  loss_classifier: 0.0279 (0.0286)  loss_box_reg: 0.0616 (0.0611)  loss_objectness: 0.0011 (0.0043)  loss_rpn_box_reg: 0.0022 (0.0040)  time: 1.9701  data: 0.0629  max mem: 22757\n",
      "Epoch: [2]  [ 40/170]  eta: 0:04:16  lr: 0.001000  loss: 0.0943 (0.0976)  loss_classifier: 0.0278 (0.0285)  loss_box_reg: 0.0604 (0.0613)  loss_objectness: 0.0023 (0.0039)  loss_rpn_box_reg: 0.0028 (0.0038)  time: 1.9736  data: 0.0670  max mem: 22757\n",
      "Epoch: [2]  [ 50/170]  eta: 0:03:56  lr: 0.001000  loss: 0.0717 (0.0905)  loss_classifier: 0.0224 (0.0264)  loss_box_reg: 0.0432 (0.0569)  loss_objectness: 0.0019 (0.0035)  loss_rpn_box_reg: 0.0031 (0.0037)  time: 1.9578  data: 0.0661  max mem: 22757\n",
      "Epoch: [2]  [ 60/170]  eta: 0:03:36  lr: 0.001000  loss: 0.0621 (0.0858)  loss_classifier: 0.0162 (0.0248)  loss_box_reg: 0.0391 (0.0544)  loss_objectness: 0.0013 (0.0031)  loss_rpn_box_reg: 0.0028 (0.0035)  time: 1.9439  data: 0.0623  max mem: 22757\n",
      "Epoch: [2]  [ 70/170]  eta: 0:03:16  lr: 0.001000  loss: 0.0678 (0.0843)  loss_classifier: 0.0191 (0.0242)  loss_box_reg: 0.0456 (0.0538)  loss_objectness: 0.0011 (0.0029)  loss_rpn_box_reg: 0.0026 (0.0034)  time: 1.9506  data: 0.0638  max mem: 22757\n",
      "Epoch: [2]  [ 80/170]  eta: 0:02:56  lr: 0.001000  loss: 0.0712 (0.0820)  loss_classifier: 0.0194 (0.0235)  loss_box_reg: 0.0467 (0.0525)  loss_objectness: 0.0015 (0.0028)  loss_rpn_box_reg: 0.0024 (0.0033)  time: 1.9532  data: 0.0654  max mem: 22757\n",
      "Epoch: [2]  [ 90/170]  eta: 0:02:36  lr: 0.001000  loss: 0.0655 (0.0818)  loss_classifier: 0.0182 (0.0230)  loss_box_reg: 0.0438 (0.0520)  loss_objectness: 0.0015 (0.0032)  loss_rpn_box_reg: 0.0023 (0.0035)  time: 1.9544  data: 0.0599  max mem: 22757\n",
      "Epoch: [2]  [100/170]  eta: 0:02:17  lr: 0.001000  loss: 0.0889 (0.0833)  loss_classifier: 0.0248 (0.0238)  loss_box_reg: 0.0580 (0.0531)  loss_objectness: 0.0012 (0.0030)  loss_rpn_box_reg: 0.0022 (0.0034)  time: 1.9595  data: 0.0538  max mem: 22757\n",
      "Epoch: [2]  [110/170]  eta: 0:01:57  lr: 0.001000  loss: 0.1005 (0.0852)  loss_classifier: 0.0310 (0.0245)  loss_box_reg: 0.0654 (0.0545)  loss_objectness: 0.0011 (0.0029)  loss_rpn_box_reg: 0.0022 (0.0033)  time: 1.9568  data: 0.0532  max mem: 22757\n",
      "Epoch: [2]  [120/170]  eta: 0:01:38  lr: 0.001000  loss: 0.1038 (0.0869)  loss_classifier: 0.0325 (0.0255)  loss_box_reg: 0.0663 (0.0555)  loss_objectness: 0.0012 (0.0027)  loss_rpn_box_reg: 0.0023 (0.0032)  time: 1.9583  data: 0.0547  max mem: 22757\n",
      "Epoch: [2]  [130/170]  eta: 0:01:18  lr: 0.001000  loss: 0.1053 (0.0884)  loss_classifier: 0.0333 (0.0263)  loss_box_reg: 0.0662 (0.0562)  loss_objectness: 0.0016 (0.0027)  loss_rpn_box_reg: 0.0024 (0.0032)  time: 1.9727  data: 0.0582  max mem: 22757\n",
      "Epoch: [2]  [140/170]  eta: 0:00:58  lr: 0.001000  loss: 0.0997 (0.0888)  loss_classifier: 0.0327 (0.0266)  loss_box_reg: 0.0630 (0.0564)  loss_objectness: 0.0013 (0.0026)  loss_rpn_box_reg: 0.0026 (0.0032)  time: 1.9834  data: 0.0622  max mem: 22757\n",
      "Epoch: [2]  [150/170]  eta: 0:00:39  lr: 0.001000  loss: 0.0815 (0.0882)  loss_classifier: 0.0276 (0.0265)  loss_box_reg: 0.0520 (0.0560)  loss_objectness: 0.0008 (0.0025)  loss_rpn_box_reg: 0.0024 (0.0031)  time: 1.9788  data: 0.0638  max mem: 22757\n",
      "Epoch: [2]  [160/170]  eta: 0:00:19  lr: 0.001000  loss: 0.0761 (0.0873)  loss_classifier: 0.0229 (0.0263)  loss_box_reg: 0.0490 (0.0556)  loss_objectness: 0.0010 (0.0024)  loss_rpn_box_reg: 0.0022 (0.0030)  time: 1.9731  data: 0.0645  max mem: 22757\n",
      "Epoch: [2]  [169/170]  eta: 0:00:01  lr: 0.001000  loss: 0.0797 (0.0870)  loss_classifier: 0.0229 (0.0262)  loss_box_reg: 0.0484 (0.0554)  loss_objectness: 0.0012 (0.0024)  loss_rpn_box_reg: 0.0022 (0.0030)  time: 1.8937  data: 0.0611  max mem: 22757\n",
      "Epoch: [2] Total time: 0:05:32 (1.9570 s / it)\n",
      "Epoch: [3]  [  0/170]  eta: 0:06:40  lr: 0.001000  loss: 0.0942 (0.0942)  loss_classifier: 0.0231 (0.0231)  loss_box_reg: 0.0671 (0.0671)  loss_objectness: 0.0006 (0.0006)  loss_rpn_box_reg: 0.0033 (0.0033)  time: 2.3557  data: 0.4399  max mem: 22757\n",
      "Epoch: [3]  [ 10/170]  eta: 0:05:19  lr: 0.001000  loss: 0.0904 (0.0976)  loss_classifier: 0.0240 (0.0258)  loss_box_reg: 0.0608 (0.0584)  loss_objectness: 0.0019 (0.0080)  loss_rpn_box_reg: 0.0024 (0.0054)  time: 1.9996  data: 0.0916  max mem: 22757\n",
      "Epoch: [3]  [ 20/170]  eta: 0:04:59  lr: 0.001000  loss: 0.0811 (0.0906)  loss_classifier: 0.0240 (0.0251)  loss_box_reg: 0.0548 (0.0569)  loss_objectness: 0.0011 (0.0047)  loss_rpn_box_reg: 0.0023 (0.0040)  time: 1.9769  data: 0.0604  max mem: 22757\n",
      "Epoch: [3]  [ 30/170]  eta: 0:04:38  lr: 0.001000  loss: 0.0776 (0.0855)  loss_classifier: 0.0228 (0.0238)  loss_box_reg: 0.0516 (0.0545)  loss_objectness: 0.0011 (0.0035)  loss_rpn_box_reg: 0.0026 (0.0036)  time: 1.9881  data: 0.0663  max mem: 22757\n"
     ]
    }
   ],
   "source": [
    "epochs = 10\n",
    "logs = []\n",
    "for e in range(epochs):    \n",
    "    logger = train_one_epoch(model, optimizer, dl, device, e, print_freq=10, grad_clip=1)\n",
    "    log_values = {k:{'median':v.median, 'mean':v.avg} for k,v in logger.meters.items()}\n",
    "    logs.append(log_values)    \n",
    "    # update the learning rate\n",
    "    #lr_scheduler.step()\n",
    "    # evaluate on the test dataset\n",
    "    #evaluate(model, dl_test, device=device)"
   ]
  },
  {
   "cell_type": "code",
   "execution_count": null,
   "id": "f9717972",
   "metadata": {},
   "outputs": [],
   "source": [
    "# save logs\n",
    "log_name = f\"{exp_name}/{exp_name}-model-{test_fold}-logs.json\"\n",
    "with open(log_name, 'w') as f:\n",
    "    json.dump(logs, f)    "
   ]
  },
  {
   "cell_type": "code",
   "execution_count": null,
   "id": "66b13adc",
   "metadata": {},
   "outputs": [],
   "source": [
    "# plot log data\n",
    "def plot_logs(logs):    \n",
    "    median = []\n",
    "    mean = []\n",
    "    for i in range(len(logs)):        \n",
    "        median.append({k:v['median'] for k,v in logs[i].items()})\n",
    "        mean.append({k:v['mean'] for k,v in logs[i].items()})\n",
    "    \n",
    "    median = pd.DataFrame(median)\n",
    "    mean = pd.DataFrame(mean)\n",
    "    \n",
    "    nr = len(median.columns)\n",
    "    fig, axes = plt.subplots(nrows=nr, ncols=1, figsize=(9, 3*nr))\n",
    "    for i, name in enumerate(median.columns):\n",
    "        axes[i].set_title(name)\n",
    "        axes[i].set_xlabel('Epoch')\n",
    "        axes[i].set_ylabel('Loss')\n",
    "        axes[i].plot(median[name].values, label='median')\n",
    "        axes[i].plot(mean[name].values, label='mean')        \n",
    "        axes[i].legend()\n",
    "    plt.tight_layout()"
   ]
  },
  {
   "cell_type": "code",
   "execution_count": null,
   "id": "1ad6571a",
   "metadata": {
    "scrolled": false
   },
   "outputs": [],
   "source": [
    "plot_logs(logs)"
   ]
  },
  {
   "cell_type": "markdown",
   "id": "sufficient-broadway",
   "metadata": {},
   "source": [
    "### Model Saving"
   ]
  },
  {
   "cell_type": "code",
   "execution_count": null,
   "id": "integral-pathology",
   "metadata": {},
   "outputs": [],
   "source": [
    "# save the model\n",
    "model_path = f\"{exp_name}/{exp_name}-model-{test_fold}.pt\"\n",
    "torch.save(model.state_dict(), model_path)"
   ]
  },
  {
   "cell_type": "markdown",
   "id": "vital-wagner",
   "metadata": {},
   "source": [
    "# Evaluation"
   ]
  },
  {
   "cell_type": "code",
   "execution_count": null,
   "id": "robust-network",
   "metadata": {},
   "outputs": [],
   "source": [
    "# load model\n",
    "loaded_model = get_model(len(label_map))\n",
    "loaded_model.load_state_dict(torch.load(model_path))\n",
    "loaded_model = loaded_model.to(device)"
   ]
  },
  {
   "cell_type": "code",
   "execution_count": null,
   "id": "artistic-england",
   "metadata": {
    "scrolled": false
   },
   "outputs": [],
   "source": [
    "idx = random.randrange(len(ds_test))\n",
    "image, target = ds_test[idx]\n",
    "\n",
    "\n",
    "loaded_model.eval()\n",
    "with torch.no_grad():\n",
    "    pred = loaded_model([image.to(device)])    \n",
    "    display_annotation(image, target, label_map, prediction=pred[0], thresh=0.8, size=(10, 10))\n",
    "    labels, scores = pred[0]['labels'], pred[0]['scores']\n",
    "    for i in range(labels.size()[-1]):\n",
    "        print(reverse_label_map[labels[i].item()], \"--\", scores[i].item())"
   ]
  },
  {
   "cell_type": "code",
   "execution_count": null,
   "id": "9f3e440c",
   "metadata": {},
   "outputs": [],
   "source": [
    "def topn_acc(model, ds, reverse_label_map, n=1, debug=True):\n",
    "    \n",
    "    results = np.zeros(len(ds))\n",
    "    \n",
    "    model.eval()        \n",
    "    with torch.no_grad():\n",
    "        for idx in range(len(ds)):\n",
    "            image, target = ds[idx]        \n",
    "            pred = model([image.to(device)])                \n",
    "            \n",
    "            # sort predicitons by classifacation score\n",
    "            labels, scores = pred[0]['labels'], pred[0]['scores']\n",
    "            pred = list(zip(labels, scores))\n",
    "            pred.sort(key=lambda x: x[1], reverse=True)\n",
    "            \n",
    "            true_label = reverse_label_map[target['labels'][0].item()]\n",
    "            pred_labels = [reverse_label_map[l.item()] for l, s in pred]\n",
    "            if debug:\n",
    "                print(f\"true: {true_label}, pred: {[f'{reverse_label_map[l.item()]}: {s:.2f}' for l, s in pred]}\")\n",
    "            \n",
    "            if true_label in pred_labels[:n]:\n",
    "                results[idx] = 1\n",
    "                \n",
    "    return results            "
   ]
  },
  {
   "cell_type": "code",
   "execution_count": null,
   "id": "78c4b24e",
   "metadata": {},
   "outputs": [],
   "source": [
    "n = 1\n",
    "acc = topn_acc(loaded_model, ds_test, reverse_label_map, n=n, debug=False)\n",
    "print(f\"top{n}_acc: {acc.sum()/len(acc):.2f}, sample size: {len(ds_test)}\")"
   ]
  },
  {
   "cell_type": "code",
   "execution_count": null,
   "id": "3c359592",
   "metadata": {},
   "outputs": [],
   "source": [
    "# Need IOU for top prediction"
   ]
  },
  {
   "cell_type": "code",
   "execution_count": null,
   "id": "38e005d8",
   "metadata": {
    "scrolled": false
   },
   "outputs": [],
   "source": [
    "# overall accuracy (warning - prints images)\n",
    "limit = 10\n",
    "randomise = True\n",
    "reverse_label_map = {v:k for k,v in label_map.items()}\n",
    "loaded_model.eval()\n",
    "results = []\n",
    "\n",
    "indices = list(range(len(ds_test)))\n",
    "if randomise:\n",
    "    random.shuffle(indices)\n",
    "    \n",
    "with torch.no_grad():\n",
    "    for idx in indices[:limit]:\n",
    "        image, target = ds_test[idx]        \n",
    "        pred = loaded_model([image.to(device)])    \n",
    "        display_annotation(image, target, label_map, prediction=pred[0], thresh=0.7, size=(10, 10))\n",
    "        \n",
    "        labels, scores = pred[0]['labels'], pred[0]['scores']\n",
    "        pred = list(zip(labels, scores))\n",
    "        pred.sort(key=lambda x: x[1], reverse=True)\n",
    "        print(f\"[{reverse_label_map[target['labels'][0].item()]}]\")\n",
    "        for l, s in pred:\n",
    "            print(reverse_label_map[l.item()], s.item())            \n",
    "        print()"
   ]
  },
  {
   "cell_type": "code",
   "execution_count": null,
   "id": "bb8f6152",
   "metadata": {},
   "outputs": [],
   "source": []
  }
 ],
 "metadata": {
  "kernelspec": {
   "display_name": "Python 3",
   "language": "python",
   "name": "python3"
  },
  "language_info": {
   "codemirror_mode": {
    "name": "ipython",
    "version": 3
   },
   "file_extension": ".py",
   "mimetype": "text/x-python",
   "name": "python",
   "nbconvert_exporter": "python",
   "pygments_lexer": "ipython3",
   "version": "3.7.10"
  }
 },
 "nbformat": 4,
 "nbformat_minor": 5
}
